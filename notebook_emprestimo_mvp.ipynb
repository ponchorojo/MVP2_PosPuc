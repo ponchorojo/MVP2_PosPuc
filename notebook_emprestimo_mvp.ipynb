{
  "cells": [
    {
      "cell_type": "markdown",
      "metadata": {
        "id": "view-in-github",
        "colab_type": "text"
      },
      "source": [
        "<a href=\"https://colab.research.google.com/github/ponchorojo/MVP2_PosPuc/blob/main/notebook_emprestimo_mvp.ipynb\" target=\"_parent\"><img src=\"https://colab.research.google.com/assets/colab-badge.svg\" alt=\"Open In Colab\"/></a>"
      ]
    },
    {
      "cell_type": "markdown",
      "metadata": {
        "id": "of1aDyU5Svpk"
      },
      "source": [
        "# MVP Pós graduação em Engenharia de Software\n",
        "**Disciplina: Qualidade de Software, Segurança e Sistemas Inteligentes**\n",
        "\n",
        " **Projeto de Machine Learning: Aprovação de Empréstimos**\n",
        "\n",
        "Treino de um modelo de classificação para prever se um empréstimo bancário será aprovado com base em dados históricos."
      ]
    },
    {
      "cell_type": "code",
      "execution_count": 1,
      "metadata": {
        "id": "M0UW8ntlSvpk",
        "colab": {
          "base_uri": "https://localhost:8080/"
        },
        "outputId": "2c01af1e-bb05-484c-8301-3901743015de"
      },
      "outputs": [
        {
          "output_type": "stream",
          "name": "stdout",
          "text": [
            "Requirement already satisfied: numpy==1.24.4 in /usr/local/lib/python3.11/dist-packages (1.24.4)\n",
            "Requirement already satisfied: scikit-learn==1.3.2 in /usr/local/lib/python3.11/dist-packages (1.3.2)\n",
            "Requirement already satisfied: joblib==1.3.2 in /usr/local/lib/python3.11/dist-packages (1.3.2)\n",
            "Requirement already satisfied: scipy>=1.5.0 in /usr/local/lib/python3.11/dist-packages (from scikit-learn==1.3.2) (1.15.3)\n",
            "Requirement already satisfied: threadpoolctl>=2.0.0 in /usr/local/lib/python3.11/dist-packages (from scikit-learn==1.3.2) (3.6.0)\n"
          ]
        }
      ],
      "source": [
        "# Instalando bibliotecas com versões específicas para compatibilidade\n",
        "!pip install numpy==1.24.4 scikit-learn==1.3.2 joblib==1.3.2\n",
        "\n",
        "# Importando bibliotecas\n",
        "import pandas as pd\n",
        "import numpy as np\n",
        "from sklearn.model_selection import train_test_split, cross_val_score\n",
        "from sklearn.preprocessing import StandardScaler\n",
        "from sklearn.pipeline import Pipeline\n",
        "from sklearn.metrics import classification_report, accuracy_score\n",
        "from sklearn.impute import SimpleImputer\n",
        "\n",
        "from sklearn.neighbors import KNeighborsClassifier\n",
        "from sklearn.tree import DecisionTreeClassifier\n",
        "from sklearn.naive_bayes import GaussianNB\n",
        "from sklearn.svm import SVC\n",
        "import joblib"
      ]
    },
    {
      "cell_type": "markdown",
      "source": [
        "### Carga do dataset, limpeza e separação de dados\n",
        "Utilizado dataset público sobre aprovação de empréstimos, carregado diretamente de uma URL para garantir reprodutibilidade.\n",
        "Selecionamos apenas as colunas relevantes para prever se o empréstimo será aprovado ou não e transformação da variável (`Loan_Status`) para valores binários (1 para 'Y' e 0 para 'N')."
      ],
      "metadata": {
        "id": "xfCikDOjY7ZC"
      }
    },
    {
      "cell_type": "code",
      "execution_count": 2,
      "metadata": {
        "colab": {
          "base_uri": "https://localhost:8080/",
          "height": 206
        },
        "id": "OgA4s1IjSvpl",
        "outputId": "1f4cde49-101e-47cd-ef4e-d1e5f2f07436"
      },
      "outputs": [
        {
          "output_type": "execute_result",
          "data": {
            "text/plain": [
              "   ApplicantIncome  CoapplicantIncome  LoanAmount  Loan_Amount_Term  \\\n",
              "1             4583             1508.0       128.0             360.0   \n",
              "2             3000                0.0        66.0             360.0   \n",
              "3             2583             2358.0       120.0             360.0   \n",
              "4             6000                0.0       141.0             360.0   \n",
              "5             5417             4196.0       267.0             360.0   \n",
              "\n",
              "   Credit_History  Loan_Status  \n",
              "1             1.0            0  \n",
              "2             1.0            1  \n",
              "3             1.0            1  \n",
              "4             1.0            1  \n",
              "5             1.0            1  "
            ],
            "text/html": [
              "\n",
              "  <div id=\"df-00c1f2c0-239a-4f6d-8989-4d6e83d8cd5f\" class=\"colab-df-container\">\n",
              "    <div>\n",
              "<style scoped>\n",
              "    .dataframe tbody tr th:only-of-type {\n",
              "        vertical-align: middle;\n",
              "    }\n",
              "\n",
              "    .dataframe tbody tr th {\n",
              "        vertical-align: top;\n",
              "    }\n",
              "\n",
              "    .dataframe thead th {\n",
              "        text-align: right;\n",
              "    }\n",
              "</style>\n",
              "<table border=\"1\" class=\"dataframe\">\n",
              "  <thead>\n",
              "    <tr style=\"text-align: right;\">\n",
              "      <th></th>\n",
              "      <th>ApplicantIncome</th>\n",
              "      <th>CoapplicantIncome</th>\n",
              "      <th>LoanAmount</th>\n",
              "      <th>Loan_Amount_Term</th>\n",
              "      <th>Credit_History</th>\n",
              "      <th>Loan_Status</th>\n",
              "    </tr>\n",
              "  </thead>\n",
              "  <tbody>\n",
              "    <tr>\n",
              "      <th>1</th>\n",
              "      <td>4583</td>\n",
              "      <td>1508.0</td>\n",
              "      <td>128.0</td>\n",
              "      <td>360.0</td>\n",
              "      <td>1.0</td>\n",
              "      <td>0</td>\n",
              "    </tr>\n",
              "    <tr>\n",
              "      <th>2</th>\n",
              "      <td>3000</td>\n",
              "      <td>0.0</td>\n",
              "      <td>66.0</td>\n",
              "      <td>360.0</td>\n",
              "      <td>1.0</td>\n",
              "      <td>1</td>\n",
              "    </tr>\n",
              "    <tr>\n",
              "      <th>3</th>\n",
              "      <td>2583</td>\n",
              "      <td>2358.0</td>\n",
              "      <td>120.0</td>\n",
              "      <td>360.0</td>\n",
              "      <td>1.0</td>\n",
              "      <td>1</td>\n",
              "    </tr>\n",
              "    <tr>\n",
              "      <th>4</th>\n",
              "      <td>6000</td>\n",
              "      <td>0.0</td>\n",
              "      <td>141.0</td>\n",
              "      <td>360.0</td>\n",
              "      <td>1.0</td>\n",
              "      <td>1</td>\n",
              "    </tr>\n",
              "    <tr>\n",
              "      <th>5</th>\n",
              "      <td>5417</td>\n",
              "      <td>4196.0</td>\n",
              "      <td>267.0</td>\n",
              "      <td>360.0</td>\n",
              "      <td>1.0</td>\n",
              "      <td>1</td>\n",
              "    </tr>\n",
              "  </tbody>\n",
              "</table>\n",
              "</div>\n",
              "    <div class=\"colab-df-buttons\">\n",
              "\n",
              "  <div class=\"colab-df-container\">\n",
              "    <button class=\"colab-df-convert\" onclick=\"convertToInteractive('df-00c1f2c0-239a-4f6d-8989-4d6e83d8cd5f')\"\n",
              "            title=\"Convert this dataframe to an interactive table.\"\n",
              "            style=\"display:none;\">\n",
              "\n",
              "  <svg xmlns=\"http://www.w3.org/2000/svg\" height=\"24px\" viewBox=\"0 -960 960 960\">\n",
              "    <path d=\"M120-120v-720h720v720H120Zm60-500h600v-160H180v160Zm220 220h160v-160H400v160Zm0 220h160v-160H400v160ZM180-400h160v-160H180v160Zm440 0h160v-160H620v160ZM180-180h160v-160H180v160Zm440 0h160v-160H620v160Z\"/>\n",
              "  </svg>\n",
              "    </button>\n",
              "\n",
              "  <style>\n",
              "    .colab-df-container {\n",
              "      display:flex;\n",
              "      gap: 12px;\n",
              "    }\n",
              "\n",
              "    .colab-df-convert {\n",
              "      background-color: #E8F0FE;\n",
              "      border: none;\n",
              "      border-radius: 50%;\n",
              "      cursor: pointer;\n",
              "      display: none;\n",
              "      fill: #1967D2;\n",
              "      height: 32px;\n",
              "      padding: 0 0 0 0;\n",
              "      width: 32px;\n",
              "    }\n",
              "\n",
              "    .colab-df-convert:hover {\n",
              "      background-color: #E2EBFA;\n",
              "      box-shadow: 0px 1px 2px rgba(60, 64, 67, 0.3), 0px 1px 3px 1px rgba(60, 64, 67, 0.15);\n",
              "      fill: #174EA6;\n",
              "    }\n",
              "\n",
              "    .colab-df-buttons div {\n",
              "      margin-bottom: 4px;\n",
              "    }\n",
              "\n",
              "    [theme=dark] .colab-df-convert {\n",
              "      background-color: #3B4455;\n",
              "      fill: #D2E3FC;\n",
              "    }\n",
              "\n",
              "    [theme=dark] .colab-df-convert:hover {\n",
              "      background-color: #434B5C;\n",
              "      box-shadow: 0px 1px 3px 1px rgba(0, 0, 0, 0.15);\n",
              "      filter: drop-shadow(0px 1px 2px rgba(0, 0, 0, 0.3));\n",
              "      fill: #FFFFFF;\n",
              "    }\n",
              "  </style>\n",
              "\n",
              "    <script>\n",
              "      const buttonEl =\n",
              "        document.querySelector('#df-00c1f2c0-239a-4f6d-8989-4d6e83d8cd5f button.colab-df-convert');\n",
              "      buttonEl.style.display =\n",
              "        google.colab.kernel.accessAllowed ? 'block' : 'none';\n",
              "\n",
              "      async function convertToInteractive(key) {\n",
              "        const element = document.querySelector('#df-00c1f2c0-239a-4f6d-8989-4d6e83d8cd5f');\n",
              "        const dataTable =\n",
              "          await google.colab.kernel.invokeFunction('convertToInteractive',\n",
              "                                                    [key], {});\n",
              "        if (!dataTable) return;\n",
              "\n",
              "        const docLinkHtml = 'Like what you see? Visit the ' +\n",
              "          '<a target=\"_blank\" href=https://colab.research.google.com/notebooks/data_table.ipynb>data table notebook</a>'\n",
              "          + ' to learn more about interactive tables.';\n",
              "        element.innerHTML = '';\n",
              "        dataTable['output_type'] = 'display_data';\n",
              "        await google.colab.output.renderOutput(dataTable, element);\n",
              "        const docLink = document.createElement('div');\n",
              "        docLink.innerHTML = docLinkHtml;\n",
              "        element.appendChild(docLink);\n",
              "      }\n",
              "    </script>\n",
              "  </div>\n",
              "\n",
              "\n",
              "    <div id=\"df-13767766-3bef-4d84-bb3c-823b8ae10c2e\">\n",
              "      <button class=\"colab-df-quickchart\" onclick=\"quickchart('df-13767766-3bef-4d84-bb3c-823b8ae10c2e')\"\n",
              "                title=\"Suggest charts\"\n",
              "                style=\"display:none;\">\n",
              "\n",
              "<svg xmlns=\"http://www.w3.org/2000/svg\" height=\"24px\"viewBox=\"0 0 24 24\"\n",
              "     width=\"24px\">\n",
              "    <g>\n",
              "        <path d=\"M19 3H5c-1.1 0-2 .9-2 2v14c0 1.1.9 2 2 2h14c1.1 0 2-.9 2-2V5c0-1.1-.9-2-2-2zM9 17H7v-7h2v7zm4 0h-2V7h2v10zm4 0h-2v-4h2v4z\"/>\n",
              "    </g>\n",
              "</svg>\n",
              "      </button>\n",
              "\n",
              "<style>\n",
              "  .colab-df-quickchart {\n",
              "      --bg-color: #E8F0FE;\n",
              "      --fill-color: #1967D2;\n",
              "      --hover-bg-color: #E2EBFA;\n",
              "      --hover-fill-color: #174EA6;\n",
              "      --disabled-fill-color: #AAA;\n",
              "      --disabled-bg-color: #DDD;\n",
              "  }\n",
              "\n",
              "  [theme=dark] .colab-df-quickchart {\n",
              "      --bg-color: #3B4455;\n",
              "      --fill-color: #D2E3FC;\n",
              "      --hover-bg-color: #434B5C;\n",
              "      --hover-fill-color: #FFFFFF;\n",
              "      --disabled-bg-color: #3B4455;\n",
              "      --disabled-fill-color: #666;\n",
              "  }\n",
              "\n",
              "  .colab-df-quickchart {\n",
              "    background-color: var(--bg-color);\n",
              "    border: none;\n",
              "    border-radius: 50%;\n",
              "    cursor: pointer;\n",
              "    display: none;\n",
              "    fill: var(--fill-color);\n",
              "    height: 32px;\n",
              "    padding: 0;\n",
              "    width: 32px;\n",
              "  }\n",
              "\n",
              "  .colab-df-quickchart:hover {\n",
              "    background-color: var(--hover-bg-color);\n",
              "    box-shadow: 0 1px 2px rgba(60, 64, 67, 0.3), 0 1px 3px 1px rgba(60, 64, 67, 0.15);\n",
              "    fill: var(--button-hover-fill-color);\n",
              "  }\n",
              "\n",
              "  .colab-df-quickchart-complete:disabled,\n",
              "  .colab-df-quickchart-complete:disabled:hover {\n",
              "    background-color: var(--disabled-bg-color);\n",
              "    fill: var(--disabled-fill-color);\n",
              "    box-shadow: none;\n",
              "  }\n",
              "\n",
              "  .colab-df-spinner {\n",
              "    border: 2px solid var(--fill-color);\n",
              "    border-color: transparent;\n",
              "    border-bottom-color: var(--fill-color);\n",
              "    animation:\n",
              "      spin 1s steps(1) infinite;\n",
              "  }\n",
              "\n",
              "  @keyframes spin {\n",
              "    0% {\n",
              "      border-color: transparent;\n",
              "      border-bottom-color: var(--fill-color);\n",
              "      border-left-color: var(--fill-color);\n",
              "    }\n",
              "    20% {\n",
              "      border-color: transparent;\n",
              "      border-left-color: var(--fill-color);\n",
              "      border-top-color: var(--fill-color);\n",
              "    }\n",
              "    30% {\n",
              "      border-color: transparent;\n",
              "      border-left-color: var(--fill-color);\n",
              "      border-top-color: var(--fill-color);\n",
              "      border-right-color: var(--fill-color);\n",
              "    }\n",
              "    40% {\n",
              "      border-color: transparent;\n",
              "      border-right-color: var(--fill-color);\n",
              "      border-top-color: var(--fill-color);\n",
              "    }\n",
              "    60% {\n",
              "      border-color: transparent;\n",
              "      border-right-color: var(--fill-color);\n",
              "    }\n",
              "    80% {\n",
              "      border-color: transparent;\n",
              "      border-right-color: var(--fill-color);\n",
              "      border-bottom-color: var(--fill-color);\n",
              "    }\n",
              "    90% {\n",
              "      border-color: transparent;\n",
              "      border-bottom-color: var(--fill-color);\n",
              "    }\n",
              "  }\n",
              "</style>\n",
              "\n",
              "      <script>\n",
              "        async function quickchart(key) {\n",
              "          const quickchartButtonEl =\n",
              "            document.querySelector('#' + key + ' button');\n",
              "          quickchartButtonEl.disabled = true;  // To prevent multiple clicks.\n",
              "          quickchartButtonEl.classList.add('colab-df-spinner');\n",
              "          try {\n",
              "            const charts = await google.colab.kernel.invokeFunction(\n",
              "                'suggestCharts', [key], {});\n",
              "          } catch (error) {\n",
              "            console.error('Error during call to suggestCharts:', error);\n",
              "          }\n",
              "          quickchartButtonEl.classList.remove('colab-df-spinner');\n",
              "          quickchartButtonEl.classList.add('colab-df-quickchart-complete');\n",
              "        }\n",
              "        (() => {\n",
              "          let quickchartButtonEl =\n",
              "            document.querySelector('#df-13767766-3bef-4d84-bb3c-823b8ae10c2e button');\n",
              "          quickchartButtonEl.style.display =\n",
              "            google.colab.kernel.accessAllowed ? 'block' : 'none';\n",
              "        })();\n",
              "      </script>\n",
              "    </div>\n",
              "\n",
              "    </div>\n",
              "  </div>\n"
            ],
            "application/vnd.google.colaboratory.intrinsic+json": {
              "type": "dataframe",
              "variable_name": "df",
              "summary": "{\n  \"name\": \"df\",\n  \"rows\": 529,\n  \"fields\": [\n    {\n      \"column\": \"ApplicantIncome\",\n      \"properties\": {\n        \"dtype\": \"number\",\n        \"std\": 6404,\n        \"min\": 150,\n        \"max\": 81000,\n        \"num_unique_values\": 442,\n        \"samples\": [\n          2755,\n          3927,\n          1977\n        ],\n        \"semantic_type\": \"\",\n        \"description\": \"\"\n      }\n    },\n    {\n      \"column\": \"CoapplicantIncome\",\n      \"properties\": {\n        \"dtype\": \"number\",\n        \"std\": 2524.2957969095396,\n        \"min\": 0.0,\n        \"max\": 33837.0,\n        \"num_unique_values\": 245,\n        \"samples\": [\n          1213.0,\n          1526.0,\n          6250.0\n        ],\n        \"semantic_type\": \"\",\n        \"description\": \"\"\n      }\n    },\n    {\n      \"column\": \"LoanAmount\",\n      \"properties\": {\n        \"dtype\": \"number\",\n        \"std\": 84.1084087950073,\n        \"min\": 9.0,\n        \"max\": 700.0,\n        \"num_unique_values\": 194,\n        \"samples\": [\n          71.0,\n          133.0,\n          62.0\n        ],\n        \"semantic_type\": \"\",\n        \"description\": \"\"\n      }\n    },\n    {\n      \"column\": \"Loan_Amount_Term\",\n      \"properties\": {\n        \"dtype\": \"number\",\n        \"std\": 64.86166224682258,\n        \"min\": 36.0,\n        \"max\": 480.0,\n        \"num_unique_values\": 9,\n        \"samples\": [\n          36.0,\n          120.0,\n          480.0\n        ],\n        \"semantic_type\": \"\",\n        \"description\": \"\"\n      }\n    },\n    {\n      \"column\": \"Credit_History\",\n      \"properties\": {\n        \"dtype\": \"number\",\n        \"std\": 0.35675905530702834,\n        \"min\": 0.0,\n        \"max\": 1.0,\n        \"num_unique_values\": 2,\n        \"samples\": [\n          0.0,\n          1.0\n        ],\n        \"semantic_type\": \"\",\n        \"description\": \"\"\n      }\n    },\n    {\n      \"column\": \"Loan_Status\",\n      \"properties\": {\n        \"dtype\": \"number\",\n        \"std\": 0,\n        \"min\": 0,\n        \"max\": 1,\n        \"num_unique_values\": 2,\n        \"samples\": [\n          1,\n          0\n        ],\n        \"semantic_type\": \"\",\n        \"description\": \"\"\n      }\n    }\n  ]\n}"
            }
          },
          "metadata": {},
          "execution_count": 2
        }
      ],
      "source": [
        "# 2. Carregando dataset via URL\n",
        "url = 'https://raw.githubusercontent.com/naveen-chauhan/Loan-Prediction-Classification/master/Dataset/train.csv'\n",
        "df = pd.read_csv(url)\n",
        "df = df[['ApplicantIncome', 'CoapplicantIncome', 'LoanAmount', 'Loan_Amount_Term', 'Credit_History', 'Loan_Status']]\n",
        "df.dropna(inplace=True)\n",
        "df['Loan_Status'] = df['Loan_Status'].map({'Y': 1, 'N': 0})\n",
        "df.head()"
      ]
    },
    {
      "cell_type": "markdown",
      "source": [
        "### Separação entre treino e teste (holdout)\n",
        "Aplicada a técnica de holdout, separando 80% dos dados para treino e 20% para teste. Essa separação permite avaliar se o modelo consegue generalizar bem para dados que ele nunca viu."
      ],
      "metadata": {
        "id": "xcXFgVaqZB_C"
      }
    },
    {
      "cell_type": "code",
      "execution_count": 3,
      "metadata": {
        "id": "3X2qjmLnSvpl"
      },
      "outputs": [],
      "source": [
        "# Separação treino e teste\n",
        "X = df.drop('Loan_Status', axis=1)\n",
        "y = df['Loan_Status']\n",
        "X_train, X_test, y_train, y_test = train_test_split(X, y, test_size=0.2, random_state=42)\n",
        "\n",
        "# Salvando dados de teste para PyTest\n",
        "df_test = X_test.copy()\n",
        "df_test['Loan_Status'] = y_test.values\n",
        "df_test.to_csv('dados_teste.csv', index=False)"
      ]
    },
    {
      "cell_type": "markdown",
      "source": [
        "### Modelagem com KNN, Árvore de Decisão, Naive Bayes e SVM\n",
        "Utilizado 4 algoritmos de classificação: KNN, Árvore de Decisão, Naive Bayes e SVM de forma a realizar comparações de desempenho entre cada modelo.\n",
        "Cada modelo possui etapas de pré-processamento e padronização, seguidas pelo  treinamento.\n"
      ],
      "metadata": {
        "id": "9K9FZpZxZssu"
      }
    },
    {
      "cell_type": "code",
      "execution_count": 4,
      "metadata": {
        "colab": {
          "base_uri": "https://localhost:8080/"
        },
        "id": "6PE3R8lxSvpl",
        "outputId": "02374a24-c249-4342-96f6-b3d830c2ce62"
      },
      "outputs": [
        {
          "output_type": "stream",
          "name": "stdout",
          "text": [
            "KNN - Acurácia: 0.79\n",
            "Tree - Acurácia: 0.74\n",
            "NB - Acurácia: 0.83\n",
            "SVM - Acurácia: 0.83\n",
            "\n",
            "Relatório do melhor modelo:\n",
            "              precision    recall  f1-score   support\n",
            "\n",
            "           0       0.86      0.55      0.67        33\n",
            "           1       0.82      0.96      0.89        73\n",
            "\n",
            "    accuracy                           0.83       106\n",
            "   macro avg       0.84      0.75      0.78       106\n",
            "weighted avg       0.83      0.83      0.82       106\n",
            "\n"
          ]
        }
      ],
      "source": [
        "# 4. Treinando e avaliando modelos\n",
        "pipelines = {\n",
        "    'KNN': Pipeline([('imp', SimpleImputer()), ('scaler', StandardScaler()), ('model', KNeighborsClassifier())]),\n",
        "    'Tree': Pipeline([('imp', SimpleImputer()), ('model', DecisionTreeClassifier())]),\n",
        "    'NB': Pipeline([('imp', SimpleImputer()), ('model', GaussianNB())]),\n",
        "    'SVM': Pipeline([('imp', SimpleImputer()), ('scaler', StandardScaler()), ('model', SVC())])\n",
        "}\n",
        "\n",
        "melhor_modelo = None\n",
        "melhor_score = 0\n",
        "\n",
        "for nome, pipe in pipelines.items():\n",
        "    pipe.fit(X_train, y_train)\n",
        "    score = pipe.score(X_test, y_test)\n",
        "    print(f\"{nome} - Acurácia: {score:.2f}\")\n",
        "    if score > melhor_score:\n",
        "        melhor_score = score\n",
        "        melhor_modelo = pipe\n",
        "\n",
        "print(\"\\nRelatório do melhor modelo:\")\n",
        "y_pred = melhor_modelo.predict(X_test)\n",
        "print(classification_report(y_test, y_pred))"
      ]
    },
    {
      "cell_type": "markdown",
      "source": [
        "### Cross-Validation\n",
        "\n",
        "Ajuda a detectar se algum modelo está sofrendo *overfitting*."
      ],
      "metadata": {
        "id": "vZIsOTpwag2R"
      }
    },
    {
      "cell_type": "code",
      "source": [
        "# 6. Validação cruzada\n",
        "from sklearn.model_selection import cross_val_score\n",
        "\n",
        "for nome, pipe in pipelines.items():\n",
        "    scores = cross_val_score(pipe, X, y, cv=5, scoring='accuracy')\n",
        "    print(f\"{nome} - Acurácia (CV): {scores.mean():.2f} (+/- {scores.std():.2f})\")"
      ],
      "metadata": {
        "colab": {
          "base_uri": "https://localhost:8080/"
        },
        "id": "-qmtBu9DXQtu",
        "outputId": "6cca8569-6c2a-446d-e548-d75eb1065dac"
      },
      "execution_count": 5,
      "outputs": [
        {
          "output_type": "stream",
          "name": "stdout",
          "text": [
            "KNN - Acurácia (CV): 0.78 (+/- 0.02)\n",
            "Tree - Acurácia (CV): 0.74 (+/- 0.03)\n",
            "NB - Acurácia (CV): 0.80 (+/- 0.03)\n",
            "SVM - Acurácia (CV): 0.81 (+/- 0.03)\n"
          ]
        }
      ]
    },
    {
      "cell_type": "markdown",
      "source": [
        "### Otimização de hiperparâmetros e avaliação final do modelo no conjunto de teste\n",
        "\n",
        "Para maximizar a acurácia média em validação cruzada, garantindo melhor desempenho geral.\n",
        "\n",
        "Avaliação do modelo no conjunto de teste com métricas de classificação: acurácia, precisão, recall e F1-score.\n",
        "de forma a entender o equilíbrio entre falsos positivos e falsos negativos."
      ],
      "metadata": {
        "id": "KEU3nCk9anH6"
      }
    },
    {
      "cell_type": "code",
      "source": [
        "# Otimização de hiperparâmetros\n",
        "from sklearn.model_selection import GridSearchCV\n",
        "\n",
        "param_grid = {\n",
        "    'model__C': [0.1, 1, 10],\n",
        "    'model__kernel': ['linear', 'rbf']\n",
        "}\n",
        "\n",
        "pipe_svm = Pipeline([\n",
        "    ('imp', SimpleImputer()),\n",
        "    ('scaler', StandardScaler()),\n",
        "    ('model', SVC())\n",
        "])\n",
        "\n",
        "grid = GridSearchCV(pipe_svm, param_grid, cv=5, scoring='accuracy')\n",
        "grid.fit(X_train, y_train)\n",
        "\n",
        "print(f\"Melhor acurácia (GridSearchCV): {grid.best_score_:.2f}\")\n",
        "print(\"Melhores hiperparâmetros:\", grid.best_params_)\n",
        "\n",
        "# Avaliação no conjunto de teste com o melhor estimador\n",
        "melhor_modelo = grid.best_estimator_\n",
        "y_pred = melhor_modelo.predict(X_test)\n",
        "print(classification_report(y_test, y_pred))"
      ],
      "metadata": {
        "colab": {
          "base_uri": "https://localhost:8080/"
        },
        "id": "KhXRpctcXS2u",
        "outputId": "eb71b510-c90a-4c28-f25f-e97683f24a05"
      },
      "execution_count": 6,
      "outputs": [
        {
          "output_type": "stream",
          "name": "stdout",
          "text": [
            "Melhor acurácia (GridSearchCV): 0.81\n",
            "Melhores hiperparâmetros: {'model__C': 0.1, 'model__kernel': 'linear'}\n",
            "              precision    recall  f1-score   support\n",
            "\n",
            "           0       0.94      0.48      0.64        33\n",
            "           1       0.81      0.99      0.89        73\n",
            "\n",
            "    accuracy                           0.83       106\n",
            "   macro avg       0.88      0.74      0.76       106\n",
            "weighted avg       0.85      0.83      0.81       106\n",
            "\n"
          ]
        }
      ]
    },
    {
      "cell_type": "code",
      "execution_count": 7,
      "metadata": {
        "colab": {
          "base_uri": "https://localhost:8080/",
          "height": 17
        },
        "id": "cK7C9qtPSvpm",
        "outputId": "1c1aef51-7a4c-4327-81b4-1f39f1ffe095"
      },
      "outputs": [
        {
          "output_type": "display_data",
          "data": {
            "text/plain": [
              "<IPython.core.display.Javascript object>"
            ],
            "application/javascript": [
              "\n",
              "    async function download(id, filename, size) {\n",
              "      if (!google.colab.kernel.accessAllowed) {\n",
              "        return;\n",
              "      }\n",
              "      const div = document.createElement('div');\n",
              "      const label = document.createElement('label');\n",
              "      label.textContent = `Downloading \"${filename}\": `;\n",
              "      div.appendChild(label);\n",
              "      const progress = document.createElement('progress');\n",
              "      progress.max = size;\n",
              "      div.appendChild(progress);\n",
              "      document.body.appendChild(div);\n",
              "\n",
              "      const buffers = [];\n",
              "      let downloaded = 0;\n",
              "\n",
              "      const channel = await google.colab.kernel.comms.open(id);\n",
              "      // Send a message to notify the kernel that we're ready.\n",
              "      channel.send({})\n",
              "\n",
              "      for await (const message of channel.messages) {\n",
              "        // Send a message to notify the kernel that we're ready.\n",
              "        channel.send({})\n",
              "        if (message.buffers) {\n",
              "          for (const buffer of message.buffers) {\n",
              "            buffers.push(buffer);\n",
              "            downloaded += buffer.byteLength;\n",
              "            progress.value = downloaded;\n",
              "          }\n",
              "        }\n",
              "      }\n",
              "      const blob = new Blob(buffers, {type: 'application/binary'});\n",
              "      const a = document.createElement('a');\n",
              "      a.href = window.URL.createObjectURL(blob);\n",
              "      a.download = filename;\n",
              "      div.appendChild(a);\n",
              "      a.click();\n",
              "      div.remove();\n",
              "    }\n",
              "  "
            ]
          },
          "metadata": {}
        },
        {
          "output_type": "display_data",
          "data": {
            "text/plain": [
              "<IPython.core.display.Javascript object>"
            ],
            "application/javascript": [
              "download(\"download_746f11aa-72ea-4ab1-8788-0f3460fcf6c1\", \"modelo_treinado.pkl\", 13194)"
            ]
          },
          "metadata": {}
        },
        {
          "output_type": "display_data",
          "data": {
            "text/plain": [
              "<IPython.core.display.Javascript object>"
            ],
            "application/javascript": [
              "\n",
              "    async function download(id, filename, size) {\n",
              "      if (!google.colab.kernel.accessAllowed) {\n",
              "        return;\n",
              "      }\n",
              "      const div = document.createElement('div');\n",
              "      const label = document.createElement('label');\n",
              "      label.textContent = `Downloading \"${filename}\": `;\n",
              "      div.appendChild(label);\n",
              "      const progress = document.createElement('progress');\n",
              "      progress.max = size;\n",
              "      div.appendChild(progress);\n",
              "      document.body.appendChild(div);\n",
              "\n",
              "      const buffers = [];\n",
              "      let downloaded = 0;\n",
              "\n",
              "      const channel = await google.colab.kernel.comms.open(id);\n",
              "      // Send a message to notify the kernel that we're ready.\n",
              "      channel.send({})\n",
              "\n",
              "      for await (const message of channel.messages) {\n",
              "        // Send a message to notify the kernel that we're ready.\n",
              "        channel.send({})\n",
              "        if (message.buffers) {\n",
              "          for (const buffer of message.buffers) {\n",
              "            buffers.push(buffer);\n",
              "            downloaded += buffer.byteLength;\n",
              "            progress.value = downloaded;\n",
              "          }\n",
              "        }\n",
              "      }\n",
              "      const blob = new Blob(buffers, {type: 'application/binary'});\n",
              "      const a = document.createElement('a');\n",
              "      a.href = window.URL.createObjectURL(blob);\n",
              "      a.download = filename;\n",
              "      div.appendChild(a);\n",
              "      a.click();\n",
              "      div.remove();\n",
              "    }\n",
              "  "
            ]
          },
          "metadata": {}
        },
        {
          "output_type": "display_data",
          "data": {
            "text/plain": [
              "<IPython.core.display.Javascript object>"
            ],
            "application/javascript": [
              "download(\"download_7569fa8d-7dc6-46df-b2ca-bf48e642f930\", \"dados_teste.csv\", 3094)"
            ]
          },
          "metadata": {}
        }
      ],
      "source": [
        "# Salvando o modelo\n",
        "joblib.dump(melhor_modelo, 'modelo_treinado.pkl')\n",
        "\n",
        "# Download do modelo\n",
        "from google.colab import files\n",
        "files.download('modelo_treinado.pkl')\n",
        "\n",
        "# Download dos dados de teste\n",
        "from google.colab import files\n",
        "files.download('dados_teste.csv')"
      ]
    },
    {
      "cell_type": "markdown",
      "source": [
        "### Teste das métricas do modelo final"
      ],
      "metadata": {
        "id": "akl47mFQbAj1"
      }
    },
    {
      "cell_type": "code",
      "source": [
        "from sklearn.metrics import precision_score, recall_score, f1_score\n",
        "\n",
        "# Thresholds configuráveis\n",
        "min_precision = 0.70\n",
        "min_recall = 0.70\n",
        "min_f1 = 0.70\n",
        "\n",
        "# Avaliação do modelo\n",
        "precision = precision_score(y_test, y_pred)\n",
        "recall = recall_score(y_test, y_pred)\n",
        "f1 = f1_score(y_test, y_pred)\n",
        "\n",
        "print(f\"Precision: {precision:.2f}\")\n",
        "print(f\"Recall: {recall:.2f}\")\n",
        "print(f\"F1-score: {f1:.2f}\")\n",
        "\n",
        "assert precision >= min_precision, f\"Precision abaixo do mínimo: {precision:.2f}\"\n",
        "assert recall >= min_recall, f\"Recall abaixo do mínimo: {recall:.2f}\"\n",
        "assert f1 >= min_f1, f\"F1-score abaixo do mínimo: {f1:.2f}\"\n",
        "\n",
        "print(\"Modelo atende aos requisitos mínimos de desempenho.\")"
      ],
      "metadata": {
        "colab": {
          "base_uri": "https://localhost:8080/"
        },
        "id": "m3Nx6rCNVMEr",
        "outputId": "7f85d696-f130-4bb0-dd34-5689f8bc8ad1"
      },
      "execution_count": 8,
      "outputs": [
        {
          "output_type": "stream",
          "name": "stdout",
          "text": [
            "Precision: 0.81\n",
            "Recall: 0.99\n",
            "F1-score: 0.89\n",
            "Modelo atende aos requisitos mínimos de desempenho.\n"
          ]
        }
      ]
    },
    {
      "cell_type": "markdown",
      "source": [
        "## Conclusão final"
      ],
      "metadata": {
        "id": "tePtUzXKrPpj"
      }
    },
    {
      "cell_type": "markdown",
      "source": [
        "Após testar os quatro modelos clássicos — KNN, Árvore de Decisão, Naive Bayes e SVM — percebi que o desempenho variou significativamente entre eles. O SVM, especialmente após otimização, se destacou com os melhores resultados gerais nas métricas de avaliação.\n",
        "\n",
        "Com validação cruzada, ele atingiu uma média de acurácia acima de 75%, o que me deu mais confiança sobre sua capacidade de generalização. Além da acurácia, as métricas de precisão, recall e F1-score também ficaram acima do mínimo estabelecido de 70%, o que reforça o equilíbrio entre falsos positivos e falsos negativos.\n",
        "\n",
        "Apesar disso, vale destacar que o dataset é relativamente pequeno e desbalanceado, o que pode impactar a qualidade do aprendizado. Mesmo assim, os resultados foram satisfatórios considerando o escopo do projeto."
      ],
      "metadata": {
        "id": "anr9WKFXrHn2"
      }
    },
    {
      "cell_type": "code",
      "source": [],
      "metadata": {
        "id": "q3jwXoZdtVCn"
      },
      "execution_count": 8,
      "outputs": []
    }
  ],
  "metadata": {
    "kernelspec": {
      "display_name": "Python 3",
      "language": "python",
      "name": "python3"
    },
    "language_info": {
      "name": "python",
      "version": "3.x"
    },
    "colab": {
      "provenance": [],
      "include_colab_link": true
    }
  },
  "nbformat": 4,
  "nbformat_minor": 0
}